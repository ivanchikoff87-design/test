{
 "cells": [
  {
   "cell_type": "code",
   "execution_count": null,
   "id": "e5eb257e-d1d2-4b54-b70b-01f390a839c9",
   "metadata": {},
   "outputs": [],
   "source": [
    "year = int(input(\"Введите год: \"))\n",
    "\n",
    "if (year % 4 == 0 and year % 100 != 0) or (year % 400 == 0):\n",
    "    print(f\"year = {year}\")\n",
    "    print(\"Результат:\")\n",
    "    print(\"Високосный год\")\n",
    "else:\n",
    "    print(f\"year = {year}\")\n",
    "    print(\"Результат:\")\n",
    "    print(\"Обычный год\")"
   ]
  }
 ],
 "metadata": {
  "kernelspec": {
   "display_name": "Python 3",
   "language": "python",
   "name": "python3"
  },
  "language_info": {
   "codemirror_mode": {
    "name": "ipython",
    "version": 3
   },
   "file_extension": ".py",
   "mimetype": "text/x-python",
   "name": "python",
   "nbconvert_exporter": "python",
   "pygments_lexer": "ipython3",
   "version": "3.7.2"
  }
 },
 "nbformat": 4,
 "nbformat_minor": 5
}
